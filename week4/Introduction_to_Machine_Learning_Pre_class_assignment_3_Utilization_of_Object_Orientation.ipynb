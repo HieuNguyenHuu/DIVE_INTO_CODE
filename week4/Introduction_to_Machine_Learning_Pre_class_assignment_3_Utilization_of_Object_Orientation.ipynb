{
 "metadata": {
  "language_info": {
   "codemirror_mode": {
    "name": "ipython",
    "version": 3
   },
   "file_extension": ".py",
   "mimetype": "text/x-python",
   "name": "python",
   "nbconvert_exporter": "python",
   "pygments_lexer": "ipython3",
   "version": "3.8.3-final"
  },
  "orig_nbformat": 2,
  "kernelspec": {
   "name": "python3",
   "display_name": "Python 3.8.3 64-bit (conda)",
   "metadata": {
    "interpreter": {
     "hash": "57cddac5ae9b7541513b871f8480362ac4870e8994976cf509c0e9c0207414d9"
    }
   }
  }
 },
 "nbformat": 4,
 "nbformat_minor": 2,
 "cells": [
  {
   "source": [
    "# Utilization of Object Orientation"
   ],
   "cell_type": "markdown",
   "metadata": {}
  },
  {
   "cell_type": "code",
   "execution_count": 3,
   "metadata": {},
   "outputs": [],
   "source": [
    "import numpy as np\n",
    "import matplotlib.pyplot as plt\n",
    "from sklearn.datasets import load_iris\n",
    "from sklearn.preprocessing import StandardScaler\n",
    "import pandas as pd \n",
    "%matplotlib inline"
   ]
  },
  {
   "cell_type": "code",
   "execution_count": 8,
   "metadata": {},
   "outputs": [
    {
     "output_type": "stream",
     "name": "stdout",
     "text": [
      "Mean : [4.86 3.31 1.45 0.22]\nVar  : [0.0764 0.0849 0.0105 0.0056]\n[[ 0.86828953  0.65207831 -0.48795004 -0.26726124]\n [ 0.14471492 -1.06391725 -0.48795004 -0.26726124]\n [-0.57885968 -0.37751902 -1.46385011 -0.26726124]\n [-0.94064699 -0.72071813  0.48795004 -0.26726124]\n [ 0.50650222  0.99527742 -0.48795004 -0.26726124]\n [ 1.95365143  2.02487476  2.43975018  2.40535118]\n [-0.94064699  0.3088792  -0.48795004  1.06904497]\n [ 0.50650222  0.3088792   0.48795004 -0.26726124]\n [-1.66422159 -1.40711636 -0.48795004 -0.26726124]\n [ 0.14471492 -0.72071813  0.48795004 -1.60356745]]\n"
     ]
    }
   ],
   "source": [
    "data = load_iris()\n",
    "X = data.data[:10]\n",
    "scaler = StandardScaler()\n",
    "scaler.fit(X)\n",
    "print(\"Mean :\", scaler.mean_)\n",
    "print(\"Var  :\", scaler.var_)\n",
    "X_std = scaler.transform(X)\n",
    "print(X_std)"
   ]
  },
  {
   "source": [
    "<hr>\n",
    "\n",
    "**[Problem 1] Enumeration of classes used so far**\n",
    "\n",
    "<hr>"
   ],
   "cell_type": "markdown",
   "metadata": {}
  },
  {
   "source": [
    "* pandas\n",
    "\n",
    "DataFrame: A class with a two-dimensional data structure\n",
    "\n",
    "* matplotlib\n",
    "\n",
    "patches class: Matplotlib's simple drawing module\n",
    "\n",
    "colors class: Module to control colors with Matplotlib\n",
    "\n",
    "* scikit-learn\n",
    "\n",
    "datasets: A dataset module that stores data such as iris variety data and housing price data for Boston City."
   ],
   "cell_type": "markdown",
   "metadata": {}
  },
  {
   "source": [
    "<hr>\n",
    "\n",
    "**[Problem 2] Enumeration of methods and instance variables used so far**\n",
    "\n",
    "<hr>"
   ],
   "cell_type": "markdown",
   "metadata": {}
  },
  {
   "source": [
    "Method\n",
    "* Numerical calculation system\n",
    "\n",
    "sum (), max (), min (), abs (), round ()\n",
    "\n",
    "* Type related\n",
    "\n",
    "dict (), int (), float (), set (), list (), str ()\n",
    "\n",
    "* List, iterator processing system\n",
    "\n",
    "all (), any (), enumerate (), len ()\n",
    "* Character string system\n",
    "\n",
    "ascii ()\n",
    "\n",
    "Instance variables\n",
    "reshape, shape, dtype, column, index, mean, var"
   ],
   "cell_type": "markdown",
   "metadata": {}
  },
  {
   "source": [
    "<hr>\n",
    "\n",
    "**[Problem 3] Creating a standardized class by scratch**\n",
    "\n",
    "<hr>"
   ],
   "cell_type": "markdown",
   "metadata": {}
  },
  {
   "cell_type": "code",
   "execution_count": 6,
   "metadata": {},
   "outputs": [],
   "source": [
    "class ScratchStandardScaler():\n",
    "    \"\"\"\n",
    "    標準化のためのクラス\n",
    "    Attributes\n",
    "    ----------\n",
    "    mean_ : 次の形のndarray, shape(n_features,)\n",
    "        平均\n",
    "    var_ : 次の形のndarray, shape(n_features,)\n",
    "        分散\n",
    "    \"\"\"\n",
    "    def fit(self, X):\n",
    "        \"\"\"\n",
    "        標準化のために平均と標準偏差を計算する。\n",
    "        Parameters\n",
    "        ----------\n",
    "        X : 次の形のndarray, shape (n_samples, n_features)\n",
    "            訓練データ\n",
    "        \"\"\"\n",
    "        self.mean_ = np.mean(X, axis=0)\n",
    "        self.var_ = np.var(X, axis=0)\n",
    "        pass\n",
    "    def transform(self, X):\n",
    "        \"\"\"\n",
    "        fitで求めた値を使い標準化を行う。\n",
    "        Parameters\n",
    "        ----------\n",
    "        X : 次の形のndarray, shape (n_samples, n_features)\n",
    "            特徴量\n",
    "        Returns\n",
    "        ----------\n",
    "        X_scaled : 次の形のndarray, shape (n_samples, n_features)\n",
    "            標準化された特緒量\n",
    "        \"\"\"\n",
    "        X_scaled = (X - self.mean_) / np.sqrt(self.var_)\n",
    "        pass\n",
    "        return X_scaled"
   ]
  },
  {
   "cell_type": "code",
   "execution_count": 7,
   "metadata": {},
   "outputs": [
    {
     "output_type": "stream",
     "name": "stdout",
     "text": [
      "平均 : [4.86 3.31 1.45 0.22]\n分散 : [0.0764 0.0849 0.0105 0.0056]\n[[ 0.86828953  0.65207831 -0.48795004 -0.26726124]\n [ 0.14471492 -1.06391725 -0.48795004 -0.26726124]\n [-0.57885968 -0.37751902 -1.46385011 -0.26726124]\n [-0.94064699 -0.72071813  0.48795004 -0.26726124]\n [ 0.50650222  0.99527742 -0.48795004 -0.26726124]\n [ 1.95365143  2.02487476  2.43975018  2.40535118]\n [-0.94064699  0.3088792  -0.48795004  1.06904497]\n [ 0.50650222  0.3088792   0.48795004 -0.26726124]\n [-1.66422159 -1.40711636 -0.48795004 -0.26726124]\n [ 0.14471492 -0.72071813  0.48795004 -1.60356745]]\n"
     ]
    }
   ],
   "source": [
    "import numpy as np\n",
    "from sklearn.datasets import load_iris\n",
    "\n",
    "data = load_iris()\n",
    "X = data.data[:10]\n",
    "scratch_scaler = ScratchStandardScaler()\n",
    "scratch_scaler.fit(X)\n",
    "print(\"平均 : {}\".format(scratch_scaler.mean_))\n",
    "print(\"分散 : {}\".format(scratch_scaler.var_))\n",
    "X_std = scratch_scaler.transform(X)\n",
    "print(X_std)"
   ]
  },
  {
   "source": [
    "<hr>\n",
    "\n",
    "**[Problem 4] Creating a class that performs 4 arithmetic operations**\n",
    "\n",
    "<hr>"
   ],
   "cell_type": "markdown",
   "metadata": {}
  },
  {
   "cell_type": "code",
   "execution_count": 25,
   "metadata": {},
   "outputs": [],
   "source": [
    "import warnings\n",
    "\n",
    "class ExampleClass():\n",
    "\n",
    "    def __init__(self, value):\n",
    "        if not isinstance(value, (int, float, complex)):\n",
    "            warnings.warn(\"Value is a numeric value\")\n",
    "            self.value = 0\n",
    "        else :\n",
    "            self.value = value\n",
    "    def add(self, value2):\n",
    "        self.value += value2\n",
    "    def sub(self, value2):\n",
    "        self.value -= value2\n",
    "    def mul(self, value2):\n",
    "        self.value *= value2\n",
    "    def div(self, value2):\n",
    "        if value == 0:\n",
    "            warnings.warn(\"Div to 0\")\n",
    "        else :\n",
    "            self.value /= value2"
   ]
  },
  {
   "cell_type": "code",
   "execution_count": 21,
   "metadata": {},
   "outputs": [
    {
     "output_type": "stream",
     "name": "stdout",
     "text": [
      "value : 5\nvalue : 8\n"
     ]
    }
   ],
   "source": [
    "example = ExampleClass(5)\n",
    "print(\"value : {}\".format(example.value))\n",
    "example.add(3)\n",
    "print(\"value : {}\".format(example.value))"
   ]
  },
  {
   "cell_type": "code",
   "execution_count": 29,
   "metadata": {},
   "outputs": [
    {
     "output_type": "stream",
     "name": "stdout",
     "text": [
      "value : 5\nvalue : 2\n"
     ]
    }
   ],
   "source": [
    "example = ExampleClass(5)\n",
    "print(\"value : {}\".format(example.value))\n",
    "example.sub(3)\n",
    "print(\"value : {}\".format(example.value))"
   ]
  },
  {
   "cell_type": "code",
   "execution_count": 28,
   "metadata": {},
   "outputs": [
    {
     "output_type": "stream",
     "name": "stdout",
     "text": [
      "value : 5\nvalue : 15\n"
     ]
    }
   ],
   "source": [
    "example = ExampleClass(5)\n",
    "print(\"value : {}\".format(example.value))\n",
    "example.mul(3)\n",
    "print(\"value : {}\".format(example.value))"
   ]
  },
  {
   "cell_type": "code",
   "execution_count": 27,
   "metadata": {},
   "outputs": [
    {
     "output_type": "stream",
     "name": "stdout",
     "text": [
      "value : 5\nvalue : 1.6666666666666667\n"
     ]
    }
   ],
   "source": [
    "example = ExampleClass(5)\n",
    "print(\"value : {}\".format(example.value))\n",
    "example.div(3)\n",
    "print(\"value : {}\".format(example.value))"
   ]
  },
  {
   "cell_type": "code",
   "execution_count": 26,
   "metadata": {},
   "outputs": [
    {
     "output_type": "stream",
     "name": "stdout",
     "text": [
      "value : 0\n",
      "value : 0.0\n",
      "<ipython-input-25-4d220b668211>:7: UserWarning: Value is a numeric value\n",
      "  warnings.warn(\"Value is a numeric value\")\n"
     ]
    }
   ],
   "source": [
    "example = ExampleClass(\"1234\")\n",
    "print(\"value : {}\".format(example.value))\n",
    "example.div(3)\n",
    "print(\"value : {}\".format(example.value))"
   ]
  },
  {
   "cell_type": "code",
   "execution_count": null,
   "metadata": {},
   "outputs": [],
   "source": []
  }
 ]
}