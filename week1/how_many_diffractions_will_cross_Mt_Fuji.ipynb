{
 "cells": [
  {
   "cell_type": "markdown",
   "metadata": {},
   "source": [
    "# Python introductory lesson assignment how many diffractions will cross Mt. Fuji"
   ]
  },
  {
   "cell_type": "code",
   "execution_count": 1,
   "metadata": {},
   "outputs": [],
   "source": [
    "import math\n",
    "import numpy as np\n",
    "import matplotlib.pyplot as plt\n",
    "%matplotlib inline"
   ]
  },
  {
   "cell_type": "markdown",
   "metadata": {},
   "source": [
    "**[Problem 1] Minimum number of folds over Mt. Fuji**"
   ]
  },
  {
   "cell_type": "code",
   "execution_count": 2,
   "metadata": {},
   "outputs": [
    {
     "name": "stdout",
     "output_type": "stream",
     "text": [
      "26 times fold paper then the thickness exceeds \"Mt. Fuji (3776m)\" in 5368.70912 m\n"
     ]
    }
   ],
   "source": [
    "t0 = 0.00008\n",
    "def mtfuji(mt, t0):\n",
    "    t = t0\n",
    "    i = 0\n",
    "    while t <= mt:\n",
    "        t *= 2\n",
    "        i += 1\n",
    "    return i, t\n",
    "     \n",
    "i, t = mtfuji(3776,t0)\n",
    "\n",
    "print(\"{} times fold paper then the thickness exceeds \\\"Mt. Fuji (3776m)\\\" in {} m\".format(i, t))\n"
   ]
  },
  {
   "cell_type": "markdown",
   "metadata": {},
   "source": [
    "**[Problem 2] Creating a function corresponding to an arbitrary thickness**"
   ]
  },
  {
   "cell_type": "markdown",
   "metadata": {},
   "source": [
    "In this problem i using data from https://www.space.com/18090-alpha-centauri-nearest-star-system.html#:~:text=The%20two%20main%20stars%20are,star%20other%20than%20the%20sun. In this the nearest non sun star to Earth is 4.22 light-years ( 3.99234299 × 10^16 m ) from Earth to Proxima Centauri"
   ]
  },
  {
   "cell_type": "code",
   "execution_count": 3,
   "metadata": {},
   "outputs": [
    {
     "name": "stdout",
     "output_type": "stream",
     "text": [
      "69 times it bends the paper to reach the Proxima Centauri ( 3.99234299 × 10^16 m) in 47223664828696456.000000 m\n"
     ]
    }
   ],
   "source": [
    "t0 = 0.00008\n",
    "def arbitary_thickness(distance, t0):\n",
    "    t = t0\n",
    "    i = 0\n",
    "    while t <= distance:\n",
    "        t *= 2\n",
    "        i += 1\n",
    "    return i, t\n",
    "     \n",
    "i, t = arbitary_thickness(3.99234299*(10**16), t0)\n",
    "\n",
    "print(\"{} times it bends the paper to reach the Proxima Centauri ( 3.99234299 × 10^16 m) in {:f} m\".format(i, t))\n"
   ]
  },
  {
   "cell_type": "markdown",
   "metadata": {},
   "source": [
    "**[Problem 3] Required paper length**"
   ]
  },
  {
   "cell_type": "code",
   "execution_count": 4,
   "metadata": {},
   "outputs": [
    {
     "name": "stdout",
     "output_type": "stream",
     "text": [
      "Paper length needed reach to moon (43 times) 3240919444170780672.000000 km\n",
      "\n",
      "Paper length needed reach to MT. Fuji (26 times) 188646348.487240 km\n",
      "\n",
      "Paper length needed reach to Proxima Centauri (69 times) 14595803601100344534048614534610944.000000 km\n"
     ]
    }
   ],
   "source": [
    "t0 = 0.00008\n",
    "\n",
    "def paper_length(n, t0):\n",
    "    l = math.pi / 6 * t0 * ((2**n) + 4) * ((2**n) - 1)\n",
    "    return l\n",
    "\n",
    "n_moon = 43\n",
    "\n",
    "n_mtfuji, t_mtfuji = mtfuji(3776, t0)\n",
    "\n",
    "n_arbitary, t_arbitary = arbitary_thickness(3.99234299*(10**16), t0)\n",
    "\n",
    "length_moon = paper_length(n_moon, t0)\n",
    "\n",
    "length_mtfuji = paper_length(n_mtfuji, t0)\n",
    "\n",
    "length_arbitary = paper_length(n_arbitary, t0)\n",
    "\n",
    "\n",
    "print(\"Paper length needed reach to moon ({} times) {:f} km\\n\".format(n_moon,length_moon/1000))\n",
    "\n",
    "print(\"Paper length needed reach to MT. Fuji ({} times) {:f} km\\n\".format(n_mtfuji,length_mtfuji/1000))\n",
    "\n",
    "print(\"Paper length needed reach to Proxima Centauri ({} times) {:f} km\".format(n_arbitary,length_arbitary/1000))"
   ]
  },
  {
   "cell_type": "code",
   "execution_count": null,
   "metadata": {},
   "outputs": [],
   "source": []
  }
 ],
 "metadata": {
  "kernelspec": {
   "display_name": "Python 3",
   "language": "python",
   "name": "python3"
  },
  "language_info": {
   "codemirror_mode": {
    "name": "ipython",
    "version": 3
   },
   "file_extension": ".py",
   "mimetype": "text/x-python",
   "name": "python",
   "nbconvert_exporter": "python",
   "pygments_lexer": "ipython3",
   "version": "3.8.3"
  }
 },
 "nbformat": 4,
 "nbformat_minor": 4
}
