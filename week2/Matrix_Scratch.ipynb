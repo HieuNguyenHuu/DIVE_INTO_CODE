{
 "metadata": {
  "language_info": {
   "codemirror_mode": {
    "name": "ipython",
    "version": 3
   },
   "file_extension": ".py",
   "mimetype": "text/x-python",
   "name": "python",
   "nbconvert_exporter": "python",
   "pygments_lexer": "ipython3",
   "version": "3.8.3-final"
  },
  "orig_nbformat": 2,
  "kernelspec": {
   "name": "python3",
   "display_name": "Python 3.8.3 64-bit (conda)",
   "metadata": {
    "interpreter": {
     "hash": "57cddac5ae9b7541513b871f8480362ac4870e8994976cf509c0e9c0207414d9"
    }
   }
  }
 },
 "nbformat": 4,
 "nbformat_minor": 2,
 "cells": [
  {
   "source": [
    "# Mathematics for Machine Learning Pre-Class assignment 3 Matrix Scratch"
   ],
   "cell_type": "markdown",
   "metadata": {}
  },
  {
   "source": [
    "import numpy as np\n",
    "import matplotlib.pyplot as plt\n",
    "%matplotlib inline"
   ],
   "cell_type": "code",
   "metadata": {},
   "execution_count": 7,
   "outputs": []
  },
  {
   "source": [
    "<hr>\n",
    "\n",
    "**[Problem 1] Matrix product is calculated manually**\n",
    "\n",
    "<hr>"
   ],
   "cell_type": "markdown",
   "metadata": {}
  },
  {
   "source": [
    "$ A = \\begin{bmatrix}-1 & 2 & 3\\\\4 & -5 & 6\\\\7 & 8 & -9\\end{bmatrix}$\n",
    "$ B = \\begin{bmatrix}0 & 2 & 1\\\\0 & 2 & -8\\\\2 & 9 & -1\\end{bmatrix}$\n",
    "\n",
    "But to multiply a matrix by another matrix we need to do the \"dot product\" of rows and columns example: \n",
    "\n",
    "The \"Dot Product\" is where we multiply matching members, then sum up:\n",
    "\n",
    "1st row and 1st column: $(-1, 2, 3) \\cdot (0, 0, 2) = -1*0 + 2*0 + 3*2 = 6$\n",
    "\n",
    "We match the 1st members (-1 and 0), multiply them, likewise for the 2nd members (2 and -) and the 3rd members (3 and 2), and finally sum them up and push it in to the 1st row 1st column of product matrix\n",
    "\n",
    "$ Product\\_matrix = \\begin{bmatrix}6 &  &  \\\\ &  & \\\\ &  & \\end{bmatrix}$\n",
    "\n",
    "1st row and 2nd column: $(-1, 2, 3) \\cdot (2, 2, 9) = -1*2 + 2*2 + 3*9 = 29$\n",
    "\n",
    "$ Product\\_matrix = \\begin{bmatrix}6 & 29 &  \\\\ &  & \\\\ &  & \\end{bmatrix}$\n",
    "\n",
    "1st row and 3rd column: $(-1, 2, 3) \\cdot (1, -8, -1) = -1*1 + 2*-8 + 3*-1 = -20$\n",
    "\n",
    "$ Product\\_matrix = \\begin{bmatrix}6 & 29 & -20 \\\\ &  & \\\\ &  & \\end{bmatrix}$\n",
    "\n",
    "2nd row and 1st column: $(4, -5, 6) \\cdot (0, 0, 2) = 4*0 + -5*0 + 6*2 = 12$\n",
    "\n",
    "$ Product\\_matrix = \\begin{bmatrix}6 & 29 & -20 \\\\12 &  & \\\\ &  & \\end{bmatrix}$\n",
    "\n",
    "2nd row and 2nd column: $(4, -5, 6) \\cdot (2, 2, 9) = 4*2 + -5*2 + 6*9 = 52$\n",
    "\n",
    "$ Product\\_matrix = \\begin{bmatrix}6 & 29 & -20 \\\\12 & 52 & \\\\ &  & \\end{bmatrix}$\n",
    "\n",
    "2nd row and 3rd column: $(4, -5, 6) \\cdot (1, -8, -1) = 4*1 + -5*-8 + 6*-1 = 38$\n",
    "\n",
    "$ Product\\_matrix = \\begin{bmatrix}6 & 29 & -20 \\\\12 & 52 & 38 \\\\ &  & \\end{bmatrix}$\n",
    "\n",
    "3rd row and 1st column: $(7, 8, -9) \\cdot (0, 0, 2) = 7*0 + 8*0 + -9*2 = -18$\n",
    "\n",
    "$ Product\\_matrix = \\begin{bmatrix}6 & 29 & -20 \\\\12 & 52 & 38 \\\\-18 &  & \\end{bmatrix}$\n",
    "\n",
    "3rd row and 2nd column: $(7, 8, -9) \\cdot (2, 2, 9) = 7*2 + 8*2 + -9*9 = -51$\n",
    "\n",
    "$ Product\\_matrix = \\begin{bmatrix}6 & 29 & -20 \\\\12 & 52 & 38 \\\\-18 & -51  & \\end{bmatrix}$\n",
    "\n",
    "3rd row and 3rd column: $(7, 8, -9) \\cdot (1, -8, -1) = 7*1 + 8*-8 + -9*-1 = -48$\n",
    "\n",
    "$ Product\\_matrix = \\begin{bmatrix}6 & 29 & -20 \\\\12 & 52 & 38 \\\\-18 & -51  & -48 \\end{bmatrix}$\n",
    "\n",
    "so:\n",
    "\n",
    "$ \\begin{bmatrix} -1 & 2 & 3 \\\\ 4 & -5 & 6 \\\\ 7 & 8 & -9 \\end{bmatrix}  +  \\begin{bmatrix} 0 & 2 & 1 \\\\ 0 & 2 & -8 \\\\ 2 & 9 & -1 \\end{bmatrix} = \\begin{bmatrix} 6 & 29 & -20 \\\\ 12 & 52 & 38 \\\\ -18 & -51  & -48 \\end{bmatrix}$\n"
   ],
   "cell_type": "markdown",
   "metadata": {}
  },
  {
   "source": [
    "<hr>\n",
    "\n",
    "**[Problem 2] Calculation by NumPy function**\n",
    "\n",
    "<hr>"
   ],
   "cell_type": "markdown",
   "metadata": {}
  },
  {
   "cell_type": "code",
   "execution_count": 8,
   "metadata": {},
   "outputs": [
    {
     "output_type": "stream",
     "name": "stdout",
     "text": [
      "Product matrix in matmul method \n[[  6  29 -20]\n [ 12  52  38]\n [-18 -51 -48]]\n"
     ]
    }
   ],
   "source": [
    "a_ndarray = np.array([[-1, 2, 3], [4, -5, 6], [7, 8, -9]])\n",
    "b_ndarray = np.array([[0, 2, 1], [0, 2, -8], [2, 9, -1]])\n",
    "\n",
    "p_ndarray = np.matmul(a_ndarray,b_ndarray)\n",
    "\n",
    "print(\"Product matrix in matmul method \\n{}\".format(p_ndarray))\n"
   ]
  },
  {
   "source": [
    "<hr>\n",
    "\n",
    "**[Problem 3] Implementation of calculation of a certain element**\n",
    "\n",
    "<hr>"
   ],
   "cell_type": "markdown",
   "metadata": {}
  },
  {
   "cell_type": "code",
   "execution_count": 9,
   "metadata": {},
   "outputs": [
    {
     "output_type": "stream",
     "name": "stdout",
     "text": [
      "certain element in (0,0) of a_ndarray * b_ndarray : 6\n"
     ]
    }
   ],
   "source": [
    "def mul_certain_element(A, B): \n",
    "    m = 0\n",
    "    for k in range(len(A)):\n",
    "        m += A[0,k]*B[k,0]\n",
    "    return m\n",
    "\n",
    "m = mul_certain_element(a_ndarray, b_ndarray)\n",
    "\n",
    "print(\"certain element in (0,0) of a_ndarray * b_ndarray : {}\".format(m))"
   ]
  },
  {
   "source": [
    "<hr>\n",
    "\n",
    "**[Problem 4] Creating a function that performs matrix multiplication**\n",
    "\n",
    "<hr>"
   ],
   "cell_type": "markdown",
   "metadata": {}
  },
  {
   "cell_type": "code",
   "execution_count": 10,
   "metadata": {},
   "outputs": [
    {
     "output_type": "stream",
     "name": "stdout",
     "text": [
      "Product matrix in function \n[[  6  29 -20]\n [ 12  52  38]\n [-18 -51 -48]]\n"
     ]
    }
   ],
   "source": [
    "def mul(A,B):\n",
    "    m = np.array([0] *(A.shape[0]*B.shape[1])).reshape(A.shape[0],B.shape[1])\n",
    "    for i in range(A.shape[0]):\n",
    "        for j in range(B.shape[1]):\n",
    "            for k in range(A.shape[1]):\n",
    "                m[i][j] += A[i][k] * B[k][j]\n",
    "    return m\n",
    "\n",
    "m = mul(a_ndarray, b_ndarray)\n",
    "\n",
    "print(\"Product matrix in function \\n{}\".format(m))"
   ]
  },
  {
   "source": [
    "<hr>\n",
    "\n",
    "**[Problem 5] Judge the input whose calculation is not defined**\n",
    "\n",
    "<hr>"
   ],
   "cell_type": "markdown",
   "metadata": {}
  },
  {
   "cell_type": "code",
   "execution_count": 11,
   "metadata": {},
   "outputs": [
    {
     "output_type": "stream",
     "name": "stdout",
     "text": [
      "the number of columns of A (3) is not equal to the number of rows of B (2)\n"
     ]
    }
   ],
   "source": [
    "d_ndarray = np.array([[-1, 2, 3], [4, -5, 6]])\n",
    "e_ndarray = np.array([[-9, 8, 7], [6, -5, 4]])\n",
    "\n",
    "def mul(A,B):\n",
    "    if (A.shape[1] == B.shape[0]):\n",
    "        print(\"the number of columns of A ({}) is equal to the number of rows of B ({}) \\n\".format(A.shape[1], B.shape[0]))\n",
    "        m = np.array([0] *(A.shape[0]*B.shape[1])).reshape(A.shape[0],B.shape[1])\n",
    "        for i in range(A.shape[0]):\n",
    "            for j in range(B.shape[1]):\n",
    "                for k in range(A.shape[1]):\n",
    "                    m[i][j] += A[i][k] * B[k][j]\n",
    "        print(\"And then the product matrix is : \\n{}\".format(m))\n",
    "    else :\n",
    "        print(\"the number of columns of A ({}) is not equal to the number of rows of B ({})\".format(A.shape[1], B.shape[0]))\n",
    "    \n",
    "\n",
    "mul(d_ndarray, e_ndarray)\n"
   ]
  },
  {
   "source": [
    "<hr>\n",
    "\n",
    "**[Problem 6] Transposition**\n",
    "\n",
    "<hr>"
   ],
   "cell_type": "markdown",
   "metadata": {}
  },
  {
   "cell_type": "code",
   "execution_count": 12,
   "metadata": {},
   "outputs": [
    {
     "output_type": "stream",
     "name": "stdout",
     "text": [
      "the number of columns of A (3) is not equal to the number of rows of B (2)\n\nSo we need to transposition for \n [[-9  8  7]\n [ 6 -5  4]] \nto \n[[-9  6]\n [ 8 -5]\n [ 7  4]]\n\nthe product matrix with Transposition: \n[[ 46  -4]\n [-34  73]] \n"
     ]
    }
   ],
   "source": [
    "def mul(A,B):\n",
    "    if (A.shape[1] == B.shape[0]):\n",
    "        m = np.array([0] *(A.shape[0]*B.shape[1])).reshape(A.shape[0],B.shape[1])\n",
    "        for i in range(A.shape[0]):\n",
    "            for j in range(B.shape[1]):\n",
    "                for k in range(A.shape[1]):\n",
    "                    m[i][j] += A[i][k] * B[k][j]\n",
    "        return m\n",
    "    else :\n",
    "        print(\"the number of columns of A ({}) is not equal to the number of rows of B ({})\\n\".format(A.shape[1], B.shape[0]))\n",
    "        print(\"So we need to transposition for \\n {} \\nto \\n{}\".format(B, B.T))\n",
    "        B = B.T\n",
    "        m = np.array([0] *(A.shape[0]*B.shape[1])).reshape(A.shape[0],B.shape[1])\n",
    "        for i in range(A.shape[0]):\n",
    "            for j in range(B.shape[1]):\n",
    "                for k in range(A.shape[1]):\n",
    "                    m[i][j] += A[i][k] * B[k][j]\n",
    "        return m\n",
    "\n",
    "m = mul(d_ndarray, e_ndarray)\n",
    "\n",
    "print(\"\\nthe product matrix with Transposition: \\n{} \".format(m))"
   ]
  },
  {
   "cell_type": "code",
   "execution_count": null,
   "metadata": {},
   "outputs": [],
   "source": []
  }
 ]
}